{
 "cells": [
  {
   "cell_type": "code",
   "execution_count": null,
   "metadata": {},
   "outputs": [],
   "source": [
    "name = raw_input('what is your name')\n",
    "age = int(input('what is your age'))\n",
    "year_current = int(input('what is the current year? '))\n",
    "year_100 =int(year_current + (100- age))\n",
    "print('your name is ' + name)\n",
    "print('your age is ' + str(age))\n",
    "print('current year is ' + str(year_current))\n",
    "print('the year you will be 100 years old is ' + str(year_100))"
   ]
  }
 ],
 "metadata": {
  "kernelspec": {
   "display_name": "Python 2",
   "language": "python",
   "name": "python2"
  },
  "language_info": {
   "codemirror_mode": {
    "name": "ipython",
    "version": 2
   },
   "file_extension": ".py",
   "mimetype": "text/x-python",
   "name": "python",
   "nbconvert_exporter": "python",
   "pygments_lexer": "ipython2",
   "version": "2.7.12"
  }
 },
 "nbformat": 4,
 "nbformat_minor": 2
}
